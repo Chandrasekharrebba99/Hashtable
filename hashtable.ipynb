{
 "cells": [
  {
   "cell_type": "code",
   "execution_count": 1,
   "id": "46997884",
   "metadata": {},
   "outputs": [],
   "source": [
    "#hash table\n"
   ]
  },
  {
   "cell_type": "code",
   "execution_count": 20,
   "id": "d42b9993",
   "metadata": {},
   "outputs": [
    {
     "data": {
      "text/plain": [
       "[['ï»¿Mar-01', 1022.0],\n",
       " ['Apr-01', 6513.0],\n",
       " ['May-01', 321.0],\n",
       " ['Jun-01', 3165.0],\n",
       " ['Jul-01', 3513.0],\n",
       " ['Aug-01', 654.0],\n",
       " ['Sep-01', 654651.0],\n",
       " ['Oct-01', 65465.0],\n",
       " ['Nov-01', 651.0],\n",
       " ['Dec-01', 65.0],\n",
       " ['Jan-02', 515.0]]"
      ]
     },
     "execution_count": 20,
     "metadata": {},
     "output_type": "execute_result"
    }
   ],
   "source": [
    "stock_prices = []\n",
    "with open(\"Hashtable .csv\",\"r\") as f:\n",
    "    for line in f:\n",
    "        Tokens = line.split(\",\")\n",
    "        day = Tokens[0]\n",
    "        price = float(Tokens[1])\n",
    "        stock_prices.append([day,price])\n",
    "stock_prices"
   ]
  },
  {
   "cell_type": "code",
   "execution_count": 26,
   "id": "e211a13c",
   "metadata": {},
   "outputs": [
    {
     "data": {
      "text/plain": [
       "{'ï»¿Mar-01': 1022.0,\n",
       " 'Apr-01': 6513.0,\n",
       " 'May-01': 321.0,\n",
       " 'Jun-01': 3165.0,\n",
       " 'Jul-01': 3513.0,\n",
       " 'Aug-01': 654.0,\n",
       " 'Sep-01': 654651.0,\n",
       " 'Oct-01': 65465.0,\n",
       " 'Nov-01': 651.0,\n",
       " 'Dec-01': 65.0,\n",
       " 'Jan-02': 515.0}"
      ]
     },
     "execution_count": 26,
     "metadata": {},
     "output_type": "execute_result"
    }
   ],
   "source": [
    "Arr = {}\n",
    "with open(\"Hashtable .csv\",\"r\") as f:\n",
    "    for line in f:\n",
    "        months = line.split(\",\")\n",
    "        day     = months[0]\n",
    "        price = float(months[1])\n",
    "        Arr[day] = price\n",
    "Arr"
   ]
  },
  {
   "cell_type": "markdown",
   "id": "a8a13417",
   "metadata": {},
   "source": [
    "# get hash key "
   ]
  },
  {
   "cell_type": "code",
   "execution_count": 31,
   "id": "51b34f2c",
   "metadata": {},
   "outputs": [
    {
     "data": {
      "text/plain": [
       "9"
      ]
     },
     "execution_count": 31,
     "metadata": {},
     "output_type": "execute_result"
    }
   ],
   "source": [
    "def gethash(key):\n",
    "    h = 0\n",
    "    for i in key:\n",
    "        h +=ord(i)\n",
    "    return h%100           #100 is size of the list\n",
    "gethash(\"march 6\")"
   ]
  },
  {
   "cell_type": "markdown",
   "id": "a1509754",
   "metadata": {},
   "source": [
    "# hash table implementation"
   ]
  },
  {
   "cell_type": "code",
   "execution_count": 63,
   "id": "2b66ad7d",
   "metadata": {},
   "outputs": [],
   "source": [
    "class Hashtable:\n",
    "    def __init__(self):\n",
    "        self.Max =100\n",
    "        self.arr = [None for i in range(self.Max)]\n",
    "    def getHash(self,key):\n",
    "        h = 0\n",
    "        for char in key:\n",
    "            h +=ord(char)\n",
    "        return h%100  \n",
    "    def add(self,key,val):\n",
    "        h = self.getHash(key)\n",
    "        self.arr[h] = val\n",
    "    def get(self,key):\n",
    "        h = self.getHash(key)\n",
    "        return self.arr[h]"
   ]
  },
  {
   "cell_type": "code",
   "execution_count": 64,
   "id": "7326544d",
   "metadata": {},
   "outputs": [
    {
     "data": {
      "text/plain": [
       "1893"
      ]
     },
     "execution_count": 64,
     "metadata": {},
     "output_type": "execute_result"
    }
   ],
   "source": [
    "t = Hashtable()\n",
    "t.add(\"march 6\",1893)\n",
    "t.get(\"march 6\")"
   ]
  },
  {
   "cell_type": "code",
   "execution_count": 45,
   "id": "1f541d16",
   "metadata": {},
   "outputs": [
    {
     "data": {
      "text/plain": [
       "[None,\n",
       " None,\n",
       " None,\n",
       " None,\n",
       " None,\n",
       " None,\n",
       " None,\n",
       " None,\n",
       " None,\n",
       " 1893,\n",
       " None,\n",
       " None,\n",
       " None,\n",
       " None,\n",
       " None,\n",
       " None,\n",
       " None,\n",
       " None,\n",
       " None,\n",
       " None,\n",
       " None,\n",
       " None,\n",
       " None,\n",
       " None,\n",
       " None,\n",
       " None,\n",
       " None,\n",
       " None,\n",
       " None,\n",
       " None,\n",
       " None,\n",
       " None,\n",
       " None,\n",
       " None,\n",
       " None,\n",
       " None,\n",
       " None,\n",
       " None,\n",
       " None,\n",
       " None,\n",
       " None,\n",
       " None,\n",
       " None,\n",
       " None,\n",
       " None,\n",
       " None,\n",
       " None,\n",
       " None,\n",
       " None,\n",
       " None,\n",
       " None,\n",
       " None,\n",
       " None,\n",
       " None,\n",
       " None,\n",
       " None,\n",
       " None,\n",
       " None,\n",
       " None,\n",
       " None,\n",
       " None,\n",
       " None,\n",
       " None,\n",
       " None,\n",
       " None,\n",
       " None,\n",
       " None,\n",
       " None,\n",
       " None,\n",
       " None,\n",
       " None,\n",
       " None,\n",
       " None,\n",
       " None,\n",
       " None,\n",
       " None,\n",
       " None,\n",
       " None,\n",
       " None,\n",
       " None,\n",
       " None,\n",
       " None,\n",
       " None,\n",
       " None,\n",
       " None,\n",
       " None,\n",
       " None,\n",
       " None,\n",
       " None,\n",
       " None,\n",
       " None,\n",
       " None,\n",
       " None,\n",
       " None,\n",
       " None,\n",
       " None,\n",
       " None,\n",
       " None,\n",
       " None,\n",
       " None]"
      ]
     },
     "execution_count": 45,
     "metadata": {},
     "output_type": "execute_result"
    }
   ],
   "source": [
    "t = Hashtable()\n",
    "t.add(\"march 6\",1893)\n",
    "t.arr"
   ]
  },
  {
   "cell_type": "code",
   "execution_count": 2,
   "id": "7124382c",
   "metadata": {},
   "outputs": [],
   "source": [
    "\n",
    "class Hashtable:\n",
    "    def __init__(self):\n",
    "        self.Max =100\n",
    "        self.arr = [None for i in range(self.Max)]\n",
    "        \n",
    "    def getHash(self,key):\n",
    "        h = 0\n",
    "        for char in key:\n",
    "            h +=ord(char)\n",
    "        return h%100  \n",
    "    \n",
    "    def __setitem__(self,key,val):      #setter \n",
    "        h = self.getHash(key)\n",
    "        self.arr[h] = val\n",
    "        \n",
    "    def __getitem__(self,key):          #getter\n",
    "        h = self.getHash(key)\n",
    "        return self.arr[h]\n",
    "    \n",
    "    def __delitem__(self):              #delete the key\n",
    "        h = self.getHash(key)\n",
    "        self.arr[h] = None"
   ]
  },
  {
   "cell_type": "code",
   "execution_count": 5,
   "id": "c2b0c368",
   "metadata": {},
   "outputs": [
    {
     "data": {
      "text/plain": [
       "76"
      ]
     },
     "execution_count": 5,
     "metadata": {},
     "output_type": "execute_result"
    }
   ],
   "source": [
    "t = Hashtable()\n",
    "t[\"march 9\"] = 76\n",
    "t[\"march 9\"]"
   ]
  },
  {
   "cell_type": "code",
   "execution_count": null,
   "id": "a24ba177",
   "metadata": {},
   "outputs": [],
   "source": []
  },
  {
   "cell_type": "code",
   "execution_count": null,
   "id": "7a8bccc9",
   "metadata": {},
   "outputs": [],
   "source": []
  },
  {
   "cell_type": "code",
   "execution_count": null,
   "id": "4716160a",
   "metadata": {},
   "outputs": [],
   "source": []
  },
  {
   "cell_type": "code",
   "execution_count": 6,
   "id": "c185b22b",
   "metadata": {},
   "outputs": [],
   "source": [
    "#Hashtables\n",
    "class Hashtable:\n",
    "    def __init__(self):\n",
    "        self.Max = 100\n",
    "        self.arr = [None for i in range(self.Max)]\n",
    "    def getHash(self,key):\n",
    "        h = 0\n",
    "        for i in key:\n",
    "            num = ord(i)\n",
    "            h += num\n",
    "        return h%100\n",
    "    \n",
    "    def add(self,key,values):\n",
    "        h = self.getHash(key)\n",
    "        self.arr[h] = values\n",
    "    \n",
    "    def get(self,key):\n",
    "        h = self.getHash(key)\n",
    "        return self.arr[h]"
   ]
  },
  {
   "cell_type": "code",
   "execution_count": null,
   "id": "a0aad827",
   "metadata": {},
   "outputs": [],
   "source": []
  },
  {
   "cell_type": "code",
   "execution_count": 70,
   "id": "895fe244",
   "metadata": {},
   "outputs": [
    {
     "data": {
      "text/plain": [
       "214"
      ]
     },
     "execution_count": 70,
     "metadata": {},
     "output_type": "execute_result"
    }
   ],
   "source": [
    "S0 = Hashtable()\n",
    "S0.add(\"march 6\",214)\n",
    "S0.get(\"march 6\")"
   ]
  },
  {
   "cell_type": "code",
   "execution_count": 72,
   "id": "a8a67f67",
   "metadata": {},
   "outputs": [],
   "source": [
    "class Hashtable:\n",
    "    def __init__(self):\n",
    "        self.Max = 100\n",
    "        self.arr = [None for i in range(self.Max)]\n",
    "    def gethash(self,key):\n",
    "        h = 0\n",
    "        for i in key:\n",
    "            h += ord(i)\n",
    "        return h%100\n",
    "    \n",
    "    def __setitem__(self,keys,values):\n",
    "        h = self.gethash(keys)\n",
    "        self.arr[h] = values\n",
    "        \n",
    "    def __getitem__(self,keys):\n",
    "        h = self.gethash(keys)\n",
    "        return self.arr[h]\n",
    "    "
   ]
  },
  {
   "cell_type": "code",
   "execution_count": 73,
   "id": "0baa3d7c",
   "metadata": {},
   "outputs": [
    {
     "data": {
      "text/plain": [
       "343"
      ]
     },
     "execution_count": 73,
     "metadata": {},
     "output_type": "execute_result"
    }
   ],
   "source": [
    "T = Hashtable()\n",
    "T[\"march\"] =343\n",
    "T[\"march\"]"
   ]
  },
  {
   "cell_type": "code",
   "execution_count": 84,
   "id": "80a25fd9",
   "metadata": {},
   "outputs": [
    {
     "name": "stdout",
     "output_type": "stream",
     "text": [
      "head\n",
      "Chandu\n",
      "Kalank\n",
      "Rebba\n",
      "chintu\n"
     ]
    }
   ],
   "source": [
    "class Node:\n",
    "    def __init__(self,data):\n",
    "        self.data =data\n",
    "        self.next = None\n",
    "class Linkedlist:\n",
    "    def __init__(self):\n",
    "        self.head = None\n",
    "    def inserthead(self,newNode):\n",
    "        tempNode = self.head\n",
    "        self.head = newNode\n",
    "        newNode.next = tempNode\n",
    "        \n",
    "        del tempNode\n",
    "    def deleteNode(self,position):\n",
    "        currentpos = 0\n",
    "        currentNode = self.head\n",
    "        while True:\n",
    "            if(currentpos == position):\n",
    "                del \n",
    "    def insertat(self,newNode,position):\n",
    "        currentposition = 0\n",
    "        currentNode = self.head\n",
    "        while True:\n",
    "            if(currentposition == position):\n",
    "                prevNode.next = newNode\n",
    "                newNode.next = currentNode\n",
    "                break\n",
    "            prevNode = currentNode\n",
    "            currentNode = currentNode.next\n",
    "            currentposition +=1\n",
    "                \n",
    "    def insert(self,newNode):\n",
    "        if(self.head is None):\n",
    "            self.head = newNode\n",
    "        else:\n",
    "            lastNode = self.head\n",
    "            while True:\n",
    "                if(lastNode.next is None):\n",
    "                    break\n",
    "                lastNode = lastNode.next\n",
    "            lastNode.next = newNode\n",
    "    def printLL(self):\n",
    "        if(self.head is None):\n",
    "            print(\"Its Empty\")\n",
    "        else:\n",
    "            currentNode = self.head\n",
    "            while True:\n",
    "                if(currentNode is None):\n",
    "                    break\n",
    "                print(currentNode.data)\n",
    "                currentNode = currentNode.next\n",
    "                \n",
    "                \n",
    "s0 = Node(\"Chandu\")\n",
    "ll = Linkedlist()\n",
    "ll.insert(s0)\n",
    "\n",
    "s1 = Node(\"Rebba\")\n",
    "ll.insert(s1)\n",
    "\n",
    "s2 = Node(\"chintu\")\n",
    "ll.insert(s2)\n",
    "\n",
    "s3 = Node(\"Kalank\")\n",
    "ll.insertat(s3,1)\n",
    "\n",
    "s4 = Node(\"head\")\n",
    "ll.inserthead(s4)\n",
    "\n",
    "ll.printLL()\n"
   ]
  },
  {
   "cell_type": "code",
   "execution_count": null,
   "id": "3dee2bec",
   "metadata": {},
   "outputs": [],
   "source": [
    "class BST:\n",
    "    "
   ]
  }
 ],
 "metadata": {
  "kernelspec": {
   "display_name": "Python 3 (ipykernel)",
   "language": "python",
   "name": "python3"
  },
  "language_info": {
   "codemirror_mode": {
    "name": "ipython",
    "version": 3
   },
   "file_extension": ".py",
   "mimetype": "text/x-python",
   "name": "python",
   "nbconvert_exporter": "python",
   "pygments_lexer": "ipython3",
   "version": "3.9.7"
  }
 },
 "nbformat": 4,
 "nbformat_minor": 5
}
